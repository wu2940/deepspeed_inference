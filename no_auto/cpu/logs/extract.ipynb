{
 "cells": [
  {
   "cell_type": "code",
   "execution_count": 2,
   "metadata": {},
   "outputs": [
    {
     "name": "stdout",
     "output_type": "stream",
     "text": [
      "資料夾: /media/ailab/20T/dailin/fine-tune/excal_deepspeed/inference/no_auto/cpu/logs\n",
      "檔案名稱: usage_LLaMA-8B_cpu.csv\n",
      "第一大 GPU 1 Memory (GB): 6.87 GB\n",
      "第二大 RAM Usage (GB): 23.24 GB\n",
      "第三大 RAM Usage (GB): 23.24 GB\n",
      "SSD Usage 差異: 0.00 GB\n",
      "---------------------\n",
      "資料夾: /media/ailab/20T/dailin/fine-tune/excal_deepspeed/inference/no_auto/cpu/logs\n",
      "檔案名稱: usage_LLaMA-13B_cpu.csv\n",
      "第一大 GPU 1 Memory (GB): 4.56 GB\n",
      "第二大 RAM Usage (GB): 48.26 GB\n",
      "第三大 RAM Usage (GB): 48.26 GB\n",
      "SSD Usage 差異: 0.00 GB\n",
      "---------------------\n",
      "資料夾: /media/ailab/20T/dailin/fine-tune/excal_deepspeed/inference/no_auto/cpu/logs\n",
      "檔案名稱: usage_LLaMA-20B_cpu.csv\n",
      "第一大 GPU 1 Memory (GB): 7.50 GB\n",
      "第二大 RAM Usage (GB): 59.31 GB\n",
      "第三大 RAM Usage (GB): 59.31 GB\n",
      "SSD Usage 差異: 0.00 GB\n",
      "---------------------\n",
      "資料夾: /media/ailab/20T/dailin/fine-tune/excal_deepspeed/inference/no_auto/cpu/logs\n",
      "檔案名稱: usage_LLaMA-34B_cpu.csv\n",
      "第一大 GPU 1 Memory (GB): 7.39 GB\n",
      "第二大 RAM Usage (GB): 114.90 GB\n",
      "第三大 RAM Usage (GB): 114.84 GB\n",
      "SSD Usage 差異: 0.00 GB\n",
      "---------------------\n"
     ]
    }
   ],
   "source": [
    "import pandas as pd\n",
    "import glob\n",
    "import os\n",
    "\n",
    "# 提取文件名中的數字，若無數字則返回 0\n",
    "def extract_number(filename):\n",
    "    num_str = ''.join(filter(str.isdigit, filename))\n",
    "    return int(num_str) if num_str else 0\n",
    "\n",
    "# 遍歷所有 CSV 檔案並排序\n",
    "files = sorted(glob.glob(\"./*.csv\"), key=extract_number)\n",
    "\n",
    "for file in files:\n",
    "    # 打印文件的完整父目錄路徑和文件名稱\n",
    "    folder = os.path.abspath(os.path.dirname(file))\n",
    "    filename = os.path.basename(file)  # 獲取文件名稱\n",
    "    print(f\"資料夾: {folder}\")\n",
    "    print(f\"檔案名稱: {filename}\")\n",
    "    \n",
    "    # 讀取 CSV 檔案\n",
    "    a = pd.read_csv(file)\n",
    "    \n",
    "    # GPU 1 Memory (MiB) 轉換成 GB 並取最大值\n",
    "    gpu_memory_gb = max(a['GPU 1 Memory (MiB)']) / 1024\n",
    "    print(f\"第一大 GPU 1 Memory (GB): {gpu_memory_gb:.2f} GB\")\n",
    "    \n",
    "    # RAM Usage (MiB) 轉換成 GB 並取第二大值\n",
    "    ram_usage_sorted = sorted(a['RAM Usage (MiB)'])\n",
    "    second_largest_ram_gb = ram_usage_sorted[-2]\n",
    "    third_largest_ram_gb = ram_usage_sorted[-3] \n",
    "    print(f\"第二大 RAM Usage (GB): {second_largest_ram_gb:.2f} GB\")\n",
    "    print(f\"第三大 RAM Usage (GB): {third_largest_ram_gb:.2f} GB\")\n",
    "    \n",
    "    # SSD Usage (GiB) 的最大值減去最小值，轉換成 GB 表示\n",
    "    max_ssd_usage = max(a['SSD Usage (GiB)'])\n",
    "    min_ssd_usage = min(a['SSD Usage (GiB)'])\n",
    "    ssd_usage_diff_gb = (max_ssd_usage - min_ssd_usage) * 1.07374182  # 轉換成 GB\n",
    "    print(f\"SSD Usage 差異: {ssd_usage_diff_gb:.2f} GB\")\n",
    "    \n",
    "    print(\"---------------------\")\n",
    "\n",
    "\n",
    "\n"
   ]
  },
  {
   "cell_type": "code",
   "execution_count": null,
   "metadata": {},
   "outputs": [],
   "source": []
  }
 ],
 "metadata": {
  "kernelspec": {
   "display_name": "ds-dailin",
   "language": "python",
   "name": "python3"
  },
  "language_info": {
   "codemirror_mode": {
    "name": "ipython",
    "version": 3
   },
   "file_extension": ".py",
   "mimetype": "text/x-python",
   "name": "python",
   "nbconvert_exporter": "python",
   "pygments_lexer": "ipython3",
   "version": "3.10.14"
  }
 },
 "nbformat": 4,
 "nbformat_minor": 2
}
